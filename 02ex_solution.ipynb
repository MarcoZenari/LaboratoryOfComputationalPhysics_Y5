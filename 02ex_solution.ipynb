{
 "cells": [
  {
   "cell_type": "markdown",
   "metadata": {},
   "source": [
    "1\\. Write a function that converts number representation, bin<->dec<->hex. (Clearly using the corresponding python built-in functions is not fair..)"
   ]
  },
  {
   "cell_type": "code",
   "execution_count": 25,
   "metadata": {},
   "outputs": [
    {
     "name": "stdout",
     "output_type": "stream",
     "text": [
      "105\n"
     ]
    }
   ],
   "source": [
    "def DecToBin(dec):\n",
    "    bin=[]\n",
    "    while(dec>0):\n",
    "        bin.append(str(dec%2))\n",
    "        dec=dec//2\n",
    "    bin.reverse()\n",
    "    return \"\".join(bin)\n",
    "\n",
    "def DecToHex(dec):\n",
    "    hex=[]\n",
    "    while(dec>0):\n",
    "        if dec%16>=10:\n",
    "            hex.append(chr(dec%16+55))\n",
    "        else:\n",
    "            hex.append(str(dec%16))\n",
    "                       \n",
    "        dec=dec//16\n",
    "    hex.reverse()\n",
    "    return \"\".join(hex)\n",
    "\n",
    "def BinToDec(bin):\n",
    "    dec=0\n",
    "    i=1\n",
    "    for element in bin:\n",
    "        dec=dec+int(element)*(2**(len(bin)-i))\n",
    "        i+=1\n",
    "    return dec\n",
    "\n",
    "def HexToDec(hex):\n",
    "    dec=0\n",
    "    i=1\n",
    "    for element in hex:\n",
    "        if ord(element)>=60:\n",
    "            dec=dec+int(ord(element)-55)*(16**(len(hex)-i))\n",
    "        else:             \n",
    "            dec=dec+int(element)*(16**(len(hex)-i))\n",
    "        i+=1\n",
    "    return dec\n",
    "\n",
    "def BinToHex(bin):\n",
    "    return DecToHex(BinToDec(bin))\n",
    "\n",
    "def HexToBin(hex):\n",
    "    return DecToBin(HexToDec(hex))\n",
    "\n",
    "a='01101001'\n",
    "\n",
    "print(BinToDec(a))\n"
   ]
  },
  {
   "cell_type": "markdown",
   "metadata": {},
   "source": [
    "2\\. Write a function that converts a 32 bit word into a single precision floating point (i.e. interprets the various bits as sign, mantissa and exponent)"
   ]
  },
  {
   "cell_type": "code",
   "execution_count": 28,
   "metadata": {},
   "outputs": [
    {
     "name": "stdout",
     "output_type": "stream",
     "text": [
      "32\n",
      "85\n",
      "-2.8306984577522454e-13\n"
     ]
    }
   ],
   "source": [
    "a='10101010100111110101101010101010'\n",
    "print(len(a))\n",
    "\n",
    "def WordToFloat(word):\n",
    "    sign=0\n",
    "    if ord(word[0])==48:\n",
    "        sign=int(1)\n",
    "    elif ord(word[0])==49:\n",
    "        sign=int(-1)\n",
    "    exponent=BinToDec(word[1:9])\n",
    "    mantissa=0\n",
    "    i=1\n",
    "    for element in word[9:32]:\n",
    "        mantissa=mantissa+float(element)*1./2**i\n",
    "        i+=1\n",
    "    print(exponent)\n",
    "    return sign*(1.+mantissa)*2**(exponent-127)\n",
    "\n",
    "print(WordToFloat(a))"
   ]
  },
  {
   "cell_type": "code",
   "execution_count": 41,
   "metadata": {},
   "outputs": [
    {
     "name": "stdout",
     "output_type": "stream",
     "text": [
      "1120403456\n",
      "100.0\n"
     ]
    }
   ],
   "source": [
    "# a word is an integer value ritorned by a sensor. \n",
    "def WordToFloat2(word):\n",
    "    \n",
    "    sgn_mask=2147483648\n",
    "    exp_mask=2139095040\n",
    "    man_mask=8388607\n",
    "    \n",
    "    sign=(word&sgn_mask)>>31\n",
    "    exponent=(word&exp_mask)>>23\n",
    "    mantissa=(word&man_mask)/(2**23)\n",
    "   \n",
    "    return  ((-1)**sign)*(1.+mantissa)*2**(exponent-127)\n",
    "\n",
    "word=int('01000010110010000000000000000000',2)\n",
    "\n",
    "print(word)\n",
    "\n",
    "print(WordToFloat2(word))"
   ]
  },
  {
   "cell_type": "markdown",
   "metadata": {},
   "source": [
    "3\\. Write a program to determine the underflow and overflow limits (within a factor of 2) for python on your computer. \n",
    "\n",
    "**Tips**: define two variables inizialized to 1 and halve/double them enough time to exceed the under/over-flow limits  "
   ]
  },
  {
   "cell_type": "code",
   "execution_count": 66,
   "metadata": {},
   "outputs": [
    {
     "name": "stdout",
     "output_type": "stream",
     "text": [
      "5e-324\n",
      "8.98846567431158e+307\n"
     ]
    }
   ],
   "source": [
    "u=1.\n",
    "o=1.\n",
    "\n",
    "while(u!=0):\n",
    "    ufin=u\n",
    "    u=u/2\n",
    "print(ufin)\n",
    "\n",
    "import math\n",
    "while(o!=math.inf):\n",
    "    ofin=o\n",
    "    o=o*2\n",
    "\n",
    "print(ofin)\n"
   ]
  },
  {
   "cell_type": "markdown",
   "metadata": {},
   "source": [
    "4\\. Write a program to determine the machine precision\n",
    "\n",
    "**Tips**: define a new variable by adding a smaller and smaller value (proceeding similarly to prob. 2) to an original variable and check the point where the two are the same "
   ]
  },
  {
   "cell_type": "code",
   "execution_count": 67,
   "metadata": {},
   "outputs": [
    {
     "name": "stdout",
     "output_type": "stream",
     "text": [
      "1.1102230246251565e-16\n"
     ]
    }
   ],
   "source": [
    "b=1.\n",
    "eps=1.\n",
    "c=1.+eps\n",
    "while(b!=c):\n",
    "    eps=eps/2.\n",
    "    c=1.+eps\n",
    "    \n",
    "print(eps)"
   ]
  },
  {
   "cell_type": "markdown",
   "metadata": {},
   "source": [
    "5\\. Write a function that takes in input three parameters $a$, $b$ and $c$ and prints out the two solutions to the quadratic equation $ax^2+bx+c=0$ using the standard formula:\n",
    "$$\n",
    "x=\\frac{-b\\pm\\sqrt{b^2-4ac}}{2a}\n",
    "$$\n",
    "\n",
    "(a) use the program to compute the solution for $a=0.001$, $b=1000$ and $c=0.001$\n",
    "\n",
    "(b) re-express the standard solution formula by multiplying top and bottom by $-b\\mp\\sqrt{b^2-4ac}$ and again find the solution for $a=0.001$, $b=1000$ and $c=0.001$. How does it compare with what previously obtained? Why?\n",
    "\n",
    "(c) write a function that compute the roots of a quadratic equation accurately in all cases"
   ]
  },
  {
   "cell_type": "code",
   "execution_count": 4,
   "metadata": {},
   "outputs": [
    {
     "name": "stdout",
     "output_type": "stream",
     "text": [
      "(-9.999894245993346e-07, -999999.999999)\n",
      "(-1000010.5755125057, -1.000000000001e-06)\n",
      "(-999999.999999, -1.000000000001e-06)\n"
     ]
    }
   ],
   "source": [
    "import math as m\n",
    "\n",
    "def formula_standard(a,b,c):\n",
    "    x1=(-b+m.sqrt(b*b-4*a*c))/(2*a)\n",
    "    x2=(-b-m.sqrt(b*b-4*a*c))/(2*a)\n",
    "    return x1,x2\n",
    "\n",
    "def formula_modificata1(a,b,c):\n",
    "    x1=(2*c)/(-b+m.sqrt(b*b-4*a*c))\n",
    "    x2=(2*c)/(-b-m.sqrt(b*b-4*a*c))\n",
    "    return x1,x2\n",
    "\n",
    "def formula_stabile(a,b,c):\n",
    "    if b>0:\n",
    "        x1=(-b-m.sqrt(b*b-4*a*c))/(2*a)\n",
    "        x2=c/(a*x1)\n",
    "    elif b<0:\n",
    "        x1=(-b+m.sqrt(b*b-4*a*c))/(2*a)\n",
    "        x2=c/(a*x1)\n",
    "    return x1,x2\n",
    "        \n",
    "a=0.001\n",
    "b=1000\n",
    "c=0.001\n",
    "\n",
    "print(formula_standard(a,b,c))\n",
    "print(formula_modificata1(a,b,c))\n",
    "print(formula_stabile(a,b,c))"
   ]
  },
  {
   "cell_type": "markdown",
   "metadata": {},
   "source": [
    "6\\. Write a program that implements the function $f(x)=x(x−1)$\n",
    "\n",
    "(a) Calculate the derivative of the function at the point $x = 1$ using the derivative definition:\n",
    "\n",
    "$$\n",
    "\\frac{{\\rm d}f}{{\\rm d}x} = \\lim_{\\delta\\to0} \\frac{f(x+\\delta)-f(x)}{\\delta}\n",
    "$$\n",
    "\n",
    "with $\\delta = 10^{−2}$. Calculate the true value of the same derivative analytically and compare with the answer your program gives. The two will not agree perfectly. Why not?\n",
    "\n",
    "(b) Repeat the calculation for $\\delta = 10^{−4}, 10^{−6}, 10^{−8}, 10^{−10}, 10^{−12}$ and $10^{−14}$. How does the accuracy scales with $\\delta$?"
   ]
  },
  {
   "cell_type": "code",
   "execution_count": 8,
   "metadata": {},
   "outputs": [
    {
     "name": "stdout",
     "output_type": "stream",
     "text": [
      "0.010000000000000897\n",
      "0.0009999999998895337\n",
      "9.999999988985486e-05\n",
      "1.0000006551269536e-05\n",
      "9.99917733279787e-07\n",
      "1.0058386723521551e-07\n",
      "3.922528746258536e-09\n",
      "8.374037108183074e-08\n",
      "8.284037100736441e-08\n",
      "8.275037099991778e-08\n",
      "8.890058334132256e-05\n",
      "-0.0007992778372593046\n"
     ]
    }
   ],
   "source": [
    "def f(x):\n",
    "    return x*(x-1)\n",
    "\n",
    "x=1\n",
    "\n",
    "for n in range (2, 14):\n",
    "    delta=1*10**(-n)\n",
    "    dev=(f(x+delta)-f(x))/delta\n",
    "    print(dev-1)"
   ]
  },
  {
   "cell_type": "markdown",
   "metadata": {},
   "source": [
    "7\\. Consider the integral of the semicircle of radius 1:\n",
    "$$\n",
    "I=\\int_{-1}^{1} \\sqrt(1-x^2) {\\rm d}x\n",
    "$$\n",
    "which it's known to be $I=\\frac{\\pi}{2}=1.57079632679...$.\n",
    "Alternatively we can use the Riemann definition of the integral:\n",
    "$$\n",
    "I=\\lim_{N\\to\\infty} \\sum_{k=1}^{N} h y_k \n",
    "$$\n",
    "\n",
    "with $h=2/N$ the width of each of the $N$ slices the domain is divided into and where\n",
    "$y_k$ is the value of the function at the $k-$th slice.\n",
    "\n",
    "(a) Write a programe to compute the integral with $N=100$. How does the result compares to the true value?\n",
    "\n",
    "(b) How much can $N$ be increased if the computation needs to be run in less than a second? What is the gain in running it for 1 minute? \n"
   ]
  },
  {
   "cell_type": "code",
   "execution_count": null,
   "metadata": {},
   "outputs": [
    {
     "name": "stdout",
     "output_type": "stream",
     "text": [
      "1.565154305800824\n",
      "25.8 µs ± 3.55 µs per loop (mean ± std. dev. of 7 runs, 10000 loops each)\n",
      "1.5687978422915554\n",
      "47.3 µs ± 2.44 µs per loop (mean ± std. dev. of 7 runs, 10000 loops each)\n",
      "1.5697078141031549\n",
      "68.5 µs ± 2.33 µs per loop (mean ± std. dev. of 7 runs, 10000 loops each)\n",
      "1.5700890978108772\n",
      "91.7 µs ± 3.51 µs per loop (mean ± std. dev. of 7 runs, 10000 loops each)\n",
      "1.5702901808273118\n",
      "115 µs ± 4.87 µs per loop (mean ± std. dev. of 7 runs, 10000 loops each)\n",
      "1.5704112407978752\n",
      "152 µs ± 20.5 µs per loop (mean ± std. dev. of 7 runs, 10000 loops each)\n",
      "1.570490710876176\n",
      "170 µs ± 6.12 µs per loop (mean ± std. dev. of 7 runs, 1000 loops each)\n",
      "1.5705461673707808\n",
      "208 µs ± 5.5 µs per loop (mean ± std. dev. of 7 runs, 10000 loops each)\n",
      "1.570586669250345\n",
      "214 µs ± 4.92 µs per loop (mean ± std. dev. of 7 runs, 1000 loops each)\n",
      "1.5706173106560368\n",
      "258 µs ± 13 µs per loop (mean ± std. dev. of 7 runs, 1000 loops each)\n",
      "1.570641153199175\n",
      "270 µs ± 17.6 µs per loop (mean ± std. dev. of 7 runs, 1000 loops each)\n",
      "1.5706601361729582\n",
      "295 µs ± 23.8 µs per loop (mean ± std. dev. of 7 runs, 1000 loops each)\n",
      "1.5706755414110678\n",
      "303 µs ± 2.26 µs per loop (mean ± std. dev. of 7 runs, 1000 loops each)\n",
      "1.5706882465746388\n",
      "321 µs ± 2.13 µs per loop (mean ± std. dev. of 7 runs, 1000 loops each)\n",
      "1.5706988706862355\n",
      "358 µs ± 22.1 µs per loop (mean ± std. dev. of 7 runs, 1000 loops each)\n",
      "1.5707078615465442\n",
      "419 µs ± 39.4 µs per loop (mean ± std. dev. of 7 runs, 1000 loops each)\n",
      "1.5707155502594106\n",
      "425 µs ± 26.6 µs per loop (mean ± std. dev. of 7 runs, 1000 loops each)\n",
      "1.5707221863620755\n",
      "447 µs ± 15.1 µs per loop (mean ± std. dev. of 7 runs, 1000 loops each)\n",
      "1.5707279611068925\n",
      "450 µs ± 22.2 µs per loop (mean ± std. dev. of 7 runs, 1000 loops each)\n",
      "1.5707330232777015\n",
      "496 µs ± 34.5 µs per loop (mean ± std. dev. of 7 runs, 1000 loops each)\n",
      "1.5707374901727815\n",
      "570 µs ± 60.9 µs per loop (mean ± std. dev. of 7 runs, 1000 loops each)\n",
      "1.5707414553820513\n",
      "622 µs ± 65.3 µs per loop (mean ± std. dev. of 7 runs, 1000 loops each)\n",
      "1.5707449943917111\n",
      "656 µs ± 58.5 µs per loop (mean ± std. dev. of 7 runs, 1000 loops each)\n",
      "1.5707481686876568\n",
      "632 µs ± 24.1 µs per loop (mean ± std. dev. of 7 runs, 1000 loops each)\n",
      "1.5707510288033382\n",
      "699 µs ± 40.5 µs per loop (mean ± std. dev. of 7 runs, 1000 loops each)\n",
      "1.5707536166132714\n",
      "629 µs ± 30.2 µs per loop (mean ± std. dev. of 7 runs, 1000 loops each)\n",
      "1.570755967079883\n",
      "624 µs ± 7.95 µs per loop (mean ± std. dev. of 7 runs, 1000 loops each)\n",
      "1.570758109598601\n",
      "749 µs ± 78.2 µs per loop (mean ± std. dev. of 7 runs, 1000 loops each)\n",
      "1.57076006904416\n",
      "715 µs ± 39.3 µs per loop (mean ± std. dev. of 7 runs, 1000 loops each)\n",
      "1.5707618665922423\n",
      "754 µs ± 48.1 µs per loop (mean ± std. dev. of 7 runs, 1000 loops each)\n",
      "1.5707635203702477\n",
      "802 µs ± 32.5 µs per loop (mean ± std. dev. of 7 runs, 1000 loops each)\n",
      "1.5707650459769407\n",
      "762 µs ± 45.5 µs per loop (mean ± std. dev. of 7 runs, 1000 loops each)\n",
      "1.5707664569006248\n",
      "872 µs ± 47.3 µs per loop (mean ± std. dev. of 7 runs, 1000 loops each)\n",
      "1.5707677648579124\n",
      "924 µs ± 65.4 µs per loop (mean ± std. dev. of 7 runs, 1000 loops each)\n",
      "1.570768980070075\n",
      "886 µs ± 76.9 µs per loop (mean ± std. dev. of 7 runs, 1000 loops each)\n",
      "1.570770111489855\n",
      "864 µs ± 55.1 µs per loop (mean ± std. dev. of 7 runs, 1000 loops each)\n",
      "1.5707711669887252\n",
      "977 µs ± 54.9 µs per loop (mean ± std. dev. of 7 runs, 1000 loops each)\n",
      "1.5707721535123105\n",
      "1.04 ms ± 42.2 µs per loop (mean ± std. dev. of 7 runs, 1000 loops each)\n",
      "1.5707730772101065\n",
      "1.01 ms ± 74.9 µs per loop (mean ± std. dev. of 7 runs, 1000 loops each)\n",
      "1.57077394354423\n",
      "957 µs ± 42.8 µs per loop (mean ± std. dev. of 7 runs, 1000 loops each)\n",
      "1.5707747573810444\n",
      "954 µs ± 9.64 µs per loop (mean ± std. dev. of 7 runs, 1000 loops each)\n",
      "1.570775523068709\n",
      "957 µs ± 2.18 µs per loop (mean ± std. dev. of 7 runs, 1000 loops each)\n",
      "1.5707762445030615\n",
      "1.01 ms ± 41.7 µs per loop (mean ± std. dev. of 7 runs, 1000 loops each)\n",
      "1.570776925183802\n",
      "1.03 ms ± 36.7 µs per loop (mean ± std. dev. of 7 runs, 1000 loops each)\n",
      "1.5707775682626852\n",
      "1.08 ms ± 47.1 µs per loop (mean ± std. dev. of 7 runs, 1000 loops each)\n",
      "1.5707781765848492\n",
      "1.07 ms ± 37.7 µs per loop (mean ± std. dev. of 7 runs, 1000 loops each)\n",
      "1.5707787527245005\n",
      "1.08 ms ± 7.62 µs per loop (mean ± std. dev. of 7 runs, 1000 loops each)\n",
      "1.5707792990158163\n",
      "1.1 ms ± 4.35 µs per loop (mean ± std. dev. of 7 runs, 1000 loops each)\n",
      "1.5707798175797043\n",
      "1.12 ms ± 2.11 µs per loop (mean ± std. dev. of 7 runs, 1000 loops each)\n",
      "1.570780310347186\n",
      "1.15 ms ± 4.2 µs per loop (mean ± std. dev. of 7 runs, 1000 loops each)\n",
      "1.5707807790797645\n",
      "1.17 ms ± 3.24 µs per loop (mean ± std. dev. of 7 runs, 1000 loops each)\n",
      "1.5707812253872329\n",
      "1.2 ms ± 4.74 µs per loop (mean ± std. dev. of 7 runs, 1000 loops each)\n",
      "1.5707816507433825\n",
      "1.22 ms ± 4.2 µs per loop (mean ± std. dev. of 7 runs, 1000 loops each)\n",
      "1.5707820564997572\n",
      "1.24 ms ± 6.14 µs per loop (mean ± std. dev. of 7 runs, 1000 loops each)\n",
      "1.5707824438978293\n",
      "1.26 ms ± 2.33 µs per loop (mean ± std. dev. of 7 runs, 1000 loops each)\n",
      "1.5707828140797702\n",
      "1.29 ms ± 3.25 µs per loop (mean ± std. dev. of 7 runs, 1000 loops each)\n",
      "1.5707831680980153\n",
      "1.31 ms ± 3.58 µs per loop (mean ± std. dev. of 7 runs, 1000 loops each)\n",
      "1.5707835069236402\n",
      "1.34 ms ± 2.46 µs per loop (mean ± std. dev. of 7 runs, 1000 loops each)\n",
      "1.5707838314540392\n",
      "1.37 ms ± 38.5 µs per loop (mean ± std. dev. of 7 runs, 1000 loops each)\n",
      "1.5707841425195435\n",
      "1.39 ms ± 7.37 µs per loop (mean ± std. dev. of 7 runs, 1000 loops each)\n",
      "1.570784440889517\n",
      "1.4 ms ± 2.06 µs per loop (mean ± std. dev. of 7 runs, 1000 loops each)\n",
      "1.5707847272777045\n",
      "1.43 ms ± 3.2 µs per loop (mean ± std. dev. of 7 runs, 1000 loops each)\n",
      "1.570785002347055\n",
      "1.45 ms ± 2.42 µs per loop (mean ± std. dev. of 7 runs, 1000 loops each)\n",
      "1.57078526671412\n",
      "1.48 ms ± 10.5 µs per loop (mean ± std. dev. of 7 runs, 1000 loops each)\n",
      "1.570785520952913\n",
      "1.49 ms ± 3.86 µs per loop (mean ± std. dev. of 7 runs, 1000 loops each)\n",
      "1.570785765598468\n",
      "1.52 ms ± 6.18 µs per loop (mean ± std. dev. of 7 runs, 1000 loops each)\n",
      "1.5707860011500443\n",
      "1.75 ms ± 121 µs per loop (mean ± std. dev. of 7 runs, 1000 loops each)\n",
      "1.570786228073929\n",
      "1.61 ms ± 56.2 µs per loop (mean ± std. dev. of 7 runs, 1000 loops each)\n",
      "1.5707864468061683\n",
      "1.85 ms ± 81.1 µs per loop (mean ± std. dev. of 7 runs, 1000 loops each)\n",
      "1.5707866577548473\n",
      "1.76 ms ± 94 µs per loop (mean ± std. dev. of 7 runs, 1000 loops each)\n",
      "1.5707868613022966\n",
      "1.99 ms ± 139 µs per loop (mean ± std. dev. of 7 runs, 100 loops each)\n",
      "1.5707870578070113\n",
      "1.89 ms ± 50 µs per loop (mean ± std. dev. of 7 runs, 1000 loops each)\n",
      "1.570787247605512\n",
      "1.87 ms ± 92 µs per loop (mean ± std. dev. of 7 runs, 1000 loops each)\n",
      "1.5707874310138714\n"
     ]
    }
   ],
   "source": [
    "import math as m\n",
    "\n",
    "def g(x):\n",
    "    return m.sqrt(1-x**2)\n",
    "\n",
    "def integral(a, b, g, N):\n",
    "    h=(b-a)/N;\n",
    "    out=0;\n",
    "    for i in range (0,N-1):\n",
    "        out=out+h*g(a+h*i)\n",
    "    return out\n",
    "\n",
    "for N in range (100, 10000, 100):\n",
    "    print (integral(-1, 1, g, N))\n",
    "    %timeit integral(-1, 1, g, N)\n",
    "        \n",
    "    "
   ]
  },
  {
   "cell_type": "code",
   "execution_count": null,
   "metadata": {},
   "outputs": [],
   "source": []
  }
 ],
 "metadata": {
  "kernelspec": {
   "display_name": "Python 3 (ipykernel)",
   "language": "python",
   "name": "python3"
  },
  "language_info": {
   "codemirror_mode": {
    "name": "ipython",
    "version": 3
   },
   "file_extension": ".py",
   "mimetype": "text/x-python",
   "name": "python",
   "nbconvert_exporter": "python",
   "pygments_lexer": "ipython3",
   "version": "3.10.6"
  }
 },
 "nbformat": 4,
 "nbformat_minor": 2
}
