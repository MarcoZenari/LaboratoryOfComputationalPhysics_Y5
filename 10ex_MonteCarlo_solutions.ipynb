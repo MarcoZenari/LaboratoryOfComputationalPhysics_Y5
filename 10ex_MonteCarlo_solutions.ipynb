{
 "cells": [
  {
   "cell_type": "markdown",
   "metadata": {},
   "source": [
    "1\\. **Radioactive decay chain**\n",
    "\n",
    "${\\rm Tl}^{208}$ decays to ${\\rm Pb}^{208}$ with a half-lieve of 3.052 minutes. Suppose to start with a sample of 1000 Thallium atoms and 0 of Lead atoms.\n",
    "\n",
    "* Take steps in time of 1 second and at each time-step decide whether each Tl atom has decayed or not, accordingly to the probability $p(t)=1-2^{-t/\\tau}$. Subtract the total number of Tl atoms that decayed at each step from the Tl sample and add them to the Lead one. Plot the evolution of the two sets as a function of time  \n",
    "* Repeat the exercise by means of the inverse transform method: draw 1000 random numbers from the non-uniform probability distribution $p(t)=2^{-t/\\tau}\\frac{\\ln 2}{\\tau}$ to represent the times of decay of the 1000 Tl atoms. Make a plot showing the number of atoms that have not decayed as a function of time"
   ]
  },
  {
   "cell_type": "code",
   "execution_count": 1,
   "metadata": {},
   "outputs": [],
   "source": [
    "import numpy as np\n",
    "from scipy import stats\n",
    "import matplotlib.pyplot as plt\n",
    "import scipy as sc"
   ]
  },
  {
   "cell_type": "code",
   "execution_count": null,
   "metadata": {},
   "outputs": [],
   "source": [
    "n_Ti=1000\n",
    "n_Pb=0\n",
    "tau=3.052*60 #seconds\n",
    "\n",
    "def p(t):\n",
    "    return 1-2**(-t/tau)"
   ]
  },
  {
   "cell_type": "code",
   "execution_count": null,
   "metadata": {
    "scrolled": false
   },
   "outputs": [],
   "source": [
    "#time evolution\n",
    "time=1000\n",
    "Ti=[]\n",
    "Pb=[]\n",
    "\n",
    "p_t=p(1)\n",
    "print(p_t)\n",
    "\n",
    "for t in range(1,time):\n",
    "    Ti.append(n_Ti)\n",
    "    Pb.append(n_Pb)\n",
    "    for j in range(n_Ti):\n",
    "        if np.random.random()<=p_t:\n",
    "            n_Ti=n_Ti-1\n",
    "            n_Pb=n_Pb+1\n",
    "    \n",
    "t=np.arange(0, len(Ti), 1)"
   ]
  },
  {
   "cell_type": "code",
   "execution_count": null,
   "metadata": {},
   "outputs": [],
   "source": [
    "plt.figure()\n",
    "plt.plot(t, Ti, Pb)\n",
    "plt.legend(['Ti', 'Pb'])\n",
    "plt.xlabel('Time[s]')\n",
    "plt.ylabel('Population')\n",
    "plt.grid()\n",
    "plt.show()"
   ]
  },
  {
   "cell_type": "code",
   "execution_count": null,
   "metadata": {
    "scrolled": false
   },
   "outputs": [],
   "source": [
    "time=np.linspace(0, 2000)\n",
    "\n",
    "def p2(t):\n",
    "    return 2**(-t/tau)*np.log(2)/tau\n",
    "\n",
    "def icp2(t):\n",
    "    return -tau*np.log2(1-t)\n",
    "\n",
    "plt.plot(time, p2(time))\n",
    "\n",
    "t_unif=np.random.rand(1000)\n",
    "v=icp2(t_unif)\n",
    "plt.hist(v, histtype='step', bins=100, density=True, linewidth=2)\n",
    "plt.ylabel('counts')\n",
    "plt.xlabel('time')\n",
    "plt.show()\n"
   ]
  },
  {
   "cell_type": "markdown",
   "metadata": {},
   "source": [
    "2\\. **Rutherford Scattering**\n",
    "\n",
    "The scattering angle $\\theta$ of $\\alpha$ particles hitting a positively charged nucleus of a Gold atom ($Z=79$) follows the rule:\n",
    "\n",
    "$$\n",
    "\\tan{\\frac{1}{2} \\theta} = \\frac{Z e^2} {2\\pi \\epsilon_0 E b}\n",
    "$$\n",
    "\n",
    "where $E=7.7$ MeV and $b$ beam is the impact parameter. The beam is represented by a 2D gaussian distribution with $\\sigma=a_0/100$ for both coordinates ($a_0$ being the Bohr radius). Assume 1 million $\\alpha$ particles are shot on the gold atom.\n",
    "\n",
    "Computing the fraction of particles that \"bounce back\",i.e. those particle whose scattering angle is greater than $\\pi/2$ (which set a condition on the impact parameter $b$)"
   ]
  },
  {
   "cell_type": "code",
   "execution_count": null,
   "metadata": {},
   "outputs": [],
   "source": [
    "E = 7.7 * 10**6\n",
    "a0 = 137 * 2 *10**(-6)\n",
    "Z = 79\n",
    "e = 1\n",
    "ep0 = 1./(4*np.pi)\n",
    "\n",
    "sigma = a0/100.\n",
    "N=1000000\n",
    "\n",
    "\n",
    "K=Z*e*e/(2*np.pi*ep0*E)"
   ]
  },
  {
   "cell_type": "code",
   "execution_count": null,
   "metadata": {},
   "outputs": [],
   "source": [
    "beam = np.random.multivariate_normal([0, 0], np.diag([sigma, sigma]), size=N)\n",
    "\n",
    "b = np.sqrt(beam[:,0]**2 + beam[:,1]**2)"
   ]
  },
  {
   "cell_type": "code",
   "execution_count": null,
   "metadata": {},
   "outputs": [],
   "source": [
    "plt.figure(figsize=(6,6))\n",
    "plt.scatter(beam[:, 0], beam[:, 1], s=1)\n",
    "plt.grid()\n",
    "plt.show()"
   ]
  },
  {
   "cell_type": "code",
   "execution_count": null,
   "metadata": {},
   "outputs": [],
   "source": [
    "bounce = (b<=K)\n",
    "n = bounce.sum()\n",
    "print(bounce.sum())\n",
    "print(n/1000000)"
   ]
  },
  {
   "cell_type": "markdown",
   "metadata": {},
   "source": [
    "3\\. **Monte Carlo integration: hit/miss vs mean value method**\n",
    "\n",
    "Consider the function \n",
    "\n",
    "$$f(x) =\\sin^2{\\frac{1}{x(2-x)}}$$\n",
    "\n",
    "* Compute the integral of $f(x)$ between 0 and 2 with the hit/miss method. Evaluate the error of your estimate\n",
    "* Repeat the integral with the mean value method. Evaluate the error and compare it with the previous one"
   ]
  },
  {
   "cell_type": "code",
   "execution_count": null,
   "metadata": {},
   "outputs": [],
   "source": [
    "def f(x):\n",
    "    return (np.sin(1/(x*(2-x))))**2"
   ]
  },
  {
   "cell_type": "code",
   "execution_count": null,
   "metadata": {},
   "outputs": [],
   "source": [
    "x = np.linspace(10**(-3), 1.999, 1000)\n",
    "y = f(x)"
   ]
  },
  {
   "cell_type": "code",
   "execution_count": null,
   "metadata": {},
   "outputs": [],
   "source": [
    "#hit/miss\n",
    "N = 100000\n",
    "count=0\n",
    "for i in range(N):\n",
    "    x=2*np.random.random()\n",
    "    y=np.random.random()\n",
    "    if y<f(x): count+=1\n",
    "Ic=2*count/N\n",
    "print(Ic)"
   ]
  },
  {
   "cell_type": "code",
   "execution_count": null,
   "metadata": {},
   "outputs": [],
   "source": [
    "#mean value\n",
    "x=np.random.random(N)\n",
    "f_i=f(x)\n",
    "\n",
    "I=2./N*f_i.sum()\n",
    "print(I)"
   ]
  },
  {
   "cell_type": "markdown",
   "metadata": {},
   "source": [
    "4\\. **Monte Carlo integration in high dimension**\n",
    "\n",
    "* Start of by computing the area of a circle of unit radius, by integrating the function \n",
    "\n",
    "$$\n",
    "f(x,y)=\n",
    "\\left\\{\n",
    "\\begin{array}{ll}\n",
    "      1 & x^2+y^2\\le 1 \\\\\n",
    "      0 & {\\rm elsewhere}\n",
    "\\end{array} \n",
    "\\right.\n",
    "$$\n",
    "\n",
    "* Generalize the result for a 10D sphere\n",
    "\n"
   ]
  },
  {
   "cell_type": "code",
   "execution_count": 9,
   "metadata": {},
   "outputs": [],
   "source": [
    "def f(x,y):\n",
    "    if (x*x+y*y<=1) :\n",
    "        out=1\n",
    "    else:\n",
    "        out=0\n",
    "    return out"
   ]
  },
  {
   "cell_type": "code",
   "execution_count": 15,
   "metadata": {},
   "outputs": [
    {
     "name": "stdout",
     "output_type": "stream",
     "text": [
      "3.192\n"
     ]
    }
   ],
   "source": [
    "N=1000\n",
    "x=np.random.uniform(-1,1,N)\n",
    "y=np.random.uniform(-1,1,N)\n",
    "\n",
    "count=0\n",
    "for i in range(N):\n",
    "    count+=f(x[i], y[i])\n",
    "\n",
    "#hit/miss\n",
    "Ic=4*count/N\n",
    "print(Ic)"
   ]
  },
  {
   "cell_type": "code",
   "execution_count": 32,
   "metadata": {},
   "outputs": [],
   "source": [
    "def f(x):\n",
    "    if np.sum([i**2 for i in x])<=1:\n",
    "        out=1\n",
    "    else:\n",
    "        out=0\n",
    "    return out"
   ]
  },
  {
   "cell_type": "code",
   "execution_count": 34,
   "metadata": {},
   "outputs": [
    {
     "name": "stdout",
     "output_type": "stream",
     "text": [
      "2.545664\n"
     ]
    }
   ],
   "source": [
    "# 10 D sphere\n",
    "\n",
    "N=1000000\n",
    "d=10\n",
    "\n",
    "V=2**10\n",
    "\n",
    "x=np.random.uniform(-1,1, (N, d))\n",
    "count=0\n",
    "for i in range(N):\n",
    "    count+=f(x[i,:])\n",
    "\n",
    "Ic=V*count/N\n",
    "print(Ic)"
   ]
  },
  {
   "cell_type": "code",
   "execution_count": 35,
   "metadata": {},
   "outputs": [
    {
     "name": "stdout",
     "output_type": "stream",
     "text": [
      "2.550164039877345\n"
     ]
    }
   ],
   "source": [
    "#True values\n",
    "print(np.pi**5/120)"
   ]
  },
  {
   "cell_type": "markdown",
   "metadata": {},
   "source": [
    "5\\. **Monte Carlo integration with importance sampling** \n",
    "\n",
    "Calculate the value of the integral:\n",
    "\n",
    "$$\n",
    "I=\\int_0^1 \\frac{x^{-1/2}}{e^x+1} dx\n",
    "$$\n",
    "\n",
    "using the importance sampling method with $w(x)=1/\\sqrt{x}$. You should get a result about 0.84"
   ]
  },
  {
   "cell_type": "code",
   "execution_count": 37,
   "metadata": {},
   "outputs": [],
   "source": [
    "def f(x):\n",
    "    return (x**(-0.5))/(np.exp(x)+1)\n",
    "\n",
    "def w(x):\n",
    "    return 1./np.sqrt(x)\n",
    "\n",
    "def intw(x):   \n",
    "    return 2*np.sqrt(x)"
   ]
  },
  {
   "cell_type": "code",
   "execution_count": 42,
   "metadata": {},
   "outputs": [
    {
     "name": "stdout",
     "output_type": "stream",
     "text": [
      "0.7590000984002523\n"
     ]
    }
   ],
   "source": [
    "N = 10000000\n",
    "x = np.random.random(N)\n",
    "I = (1/N)* (f(x)/w(x)).sum()*(intw(1)-intw(0.000001))\n",
    "print(I)"
   ]
  }
 ],
 "metadata": {
  "kernelspec": {
   "display_name": "Python 3 (ipykernel)",
   "language": "python",
   "name": "python3"
  },
  "language_info": {
   "codemirror_mode": {
    "name": "ipython",
    "version": 3
   },
   "file_extension": ".py",
   "mimetype": "text/x-python",
   "name": "python",
   "nbconvert_exporter": "python",
   "pygments_lexer": "ipython3",
   "version": "3.9.13"
  }
 },
 "nbformat": 4,
 "nbformat_minor": 2
}
