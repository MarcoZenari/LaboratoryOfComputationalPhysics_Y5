{
 "cells": [
  {
   "cell_type": "markdown",
   "metadata": {},
   "source": [
    "1. The MickeyMouse problem\n",
    "\n",
    "a) Write a program that prints the numbers from 1 to 100. But for multiples of 3 print `Mickey` instead of the corresponding number and for the multiples of 5 print `Mouse`. For numbers which are multiples of both three and five print `MickeyMouse`\n",
    "\n",
    "b) Put the result in a tuple and substitute `Mickey` with `Donald` and `Mouse` with `Duck`"
   ]
  },
  {
   "cell_type": "code",
   "execution_count": 16,
   "metadata": {},
   "outputs": [
    {
     "name": "stdout",
     "output_type": "stream",
     "text": [
      "1\n",
      "2\n",
      "Mikey\n",
      "4\n",
      "Mouse\n",
      "Mikey\n",
      "7\n",
      "8\n",
      "Mikey\n",
      "Mouse\n",
      "11\n",
      "Mikey\n",
      "13\n",
      "14\n",
      "MikeyMouse\n",
      "16\n",
      "17\n",
      "Mikey\n",
      "19\n",
      "Mouse\n",
      "Mikey\n",
      "22\n",
      "23\n",
      "Mikey\n",
      "Mouse\n",
      "26\n",
      "Mikey\n",
      "28\n",
      "29\n",
      "MikeyMouse\n",
      "31\n",
      "32\n",
      "Mikey\n",
      "34\n",
      "Mouse\n",
      "Mikey\n",
      "37\n",
      "38\n",
      "Mikey\n",
      "Mouse\n",
      "41\n",
      "Mikey\n",
      "43\n",
      "44\n",
      "MikeyMouse\n",
      "46\n",
      "47\n",
      "Mikey\n",
      "49\n",
      "Mouse\n",
      "Mikey\n",
      "52\n",
      "53\n",
      "Mikey\n",
      "Mouse\n",
      "56\n",
      "Mikey\n",
      "58\n",
      "59\n",
      "MikeyMouse\n",
      "61\n",
      "62\n",
      "Mikey\n",
      "64\n",
      "Mouse\n",
      "Mikey\n",
      "67\n",
      "68\n",
      "Mikey\n",
      "Mouse\n",
      "71\n",
      "Mikey\n",
      "73\n",
      "74\n",
      "MikeyMouse\n",
      "76\n",
      "77\n",
      "Mikey\n",
      "79\n",
      "Mouse\n",
      "Mikey\n",
      "82\n",
      "83\n",
      "Mikey\n",
      "Mouse\n",
      "86\n",
      "Mikey\n",
      "88\n",
      "89\n",
      "MikeyMouse\n",
      "91\n",
      "92\n",
      "Mikey\n",
      "94\n",
      "Mouse\n",
      "Mikey\n",
      "97\n",
      "98\n",
      "Mikey\n",
      "Mouse\n",
      "1\n",
      "2\n",
      "Donald\n",
      "4\n",
      "Duck\n",
      "Donald\n",
      "7\n",
      "8\n",
      "Donald\n",
      "Duck\n",
      "11\n",
      "Donald\n",
      "13\n",
      "14\n",
      "MickeyMouse\n",
      "16\n",
      "17\n",
      "Donald\n",
      "19\n",
      "Duck\n",
      "Donald\n",
      "22\n",
      "23\n",
      "Donald\n",
      "Duck\n",
      "26\n",
      "Donald\n",
      "28\n",
      "29\n",
      "MickeyMouse\n",
      "31\n",
      "32\n",
      "Donald\n",
      "34\n",
      "Duck\n",
      "Donald\n",
      "37\n",
      "38\n",
      "Donald\n",
      "Duck\n",
      "41\n",
      "Donald\n",
      "43\n",
      "44\n",
      "MickeyMouse\n",
      "46\n",
      "47\n",
      "Donald\n",
      "49\n",
      "Duck\n",
      "Donald\n",
      "52\n",
      "53\n",
      "Donald\n",
      "Duck\n",
      "56\n",
      "Donald\n",
      "58\n",
      "59\n",
      "MickeyMouse\n",
      "61\n",
      "62\n",
      "Donald\n",
      "64\n",
      "Duck\n",
      "Donald\n",
      "67\n",
      "68\n",
      "Donald\n",
      "Duck\n",
      "71\n",
      "Donald\n",
      "73\n",
      "74\n",
      "MickeyMouse\n",
      "76\n",
      "77\n",
      "Donald\n",
      "79\n",
      "Duck\n",
      "Donald\n",
      "82\n",
      "83\n",
      "Donald\n",
      "Duck\n",
      "86\n",
      "Donald\n",
      "88\n",
      "89\n",
      "MickeyMouse\n",
      "91\n",
      "92\n",
      "Donald\n",
      "94\n",
      "Duck\n",
      "Donald\n",
      "97\n",
      "98\n",
      "Donald\n",
      "Duck\n"
     ]
    }
   ],
   "source": [
    "lista=[] #crea la lista\n",
    "#NB: i tuple non possono essere modificati\n",
    "for i in range (1,101):\n",
    "    if ((i%3)==0 and (i%5)!=0):\n",
    "        print('Mikey')\n",
    "        lista.append('Mickey')\n",
    "    elif ((i%5)==0 and (i%3)!=0): \n",
    "        print('Mouse')\n",
    "        lista.append('Mouse')\n",
    "    elif ((i%5)==0 and (i%3)==0):\n",
    "        print('MikeyMouse')\n",
    "        lista.append('MickeyMouse')\n",
    "    else:\n",
    "        print(i)\n",
    "        lista.append(i)\n",
    "    \n",
    "a=tuple(lista) #trasforma la lista in una tuple\n",
    "\n",
    "for j in range (0,100):\n",
    "    if (lista[j]=='Mickey'):\n",
    "        lista[j]='Donald'\n",
    "    elif (lista[j]=='Mouse'):\n",
    "        lista[j]='Duck'\n",
    "    print(lista[j])\n",
    "\n",
    "b=tuple(lista)\n",
    "        "
   ]
  },
  {
   "cell_type": "markdown",
   "metadata": {},
   "source": [
    "2\\. The swap function\n",
    "\n",
    "Write a function that swap the values of two input variables x and y (whatever the type). Try to do that also without a temporary variable"
   ]
  },
  {
   "cell_type": "code",
   "execution_count": 20,
   "metadata": {},
   "outputs": [
    {
     "name": "stdout",
     "output_type": "stream",
     "text": [
      "Insert first variable:1\n",
      "Insert second variable:2\n",
      "2 1\n"
     ]
    }
   ],
   "source": [
    "x=input('Insert first variable:')\n",
    "y=input('Insert second variable:')\n",
    "\n",
    "def swap (x,y):\n",
    "    return y,x   #NB: in python si può ritornare più variabili\n",
    "x,y=swap(x,y) \n",
    "\n",
    "print(x,y)"
   ]
  },
  {
   "cell_type": "markdown",
   "metadata": {},
   "source": [
    "3\\. Computing the distance\n",
    "\n",
    "Write a function that calculates and returns the euclidean distance between two points *u* and *v*, where *u* and *v* are both 2-tuples *(x,y)*. For example, if *u=(3,0)* and *v=(0,4)*, the function should return 5"
   ]
  },
  {
   "cell_type": "code",
   "execution_count": 25,
   "metadata": {},
   "outputs": [
    {
     "name": "stdout",
     "output_type": "stream",
     "text": [
      "Insert x1:1\n",
      "Insert y1:2\n",
      "Insert x2:3\n",
      "Insert y2:4\n",
      "2.8284271247461903\n"
     ]
    }
   ],
   "source": [
    "x1=float(input('Insert x1:'))\n",
    "y1=float(input('Insert y1:'))\n",
    "x2=float(input('Insert x2:'))\n",
    "y2=float(input('Insert y2:'))\n",
    "\n",
    "u=(x1,y1)\n",
    "v=(x2,y2)\n",
    "\n",
    "def distance(u,v):\n",
    "    distance=(((u[0]-v[0])**2+(u[1]-v[1])**2))**(1/2)\n",
    "    return distance\n",
    "\n",
    "print(distance(u,v))"
   ]
  },
  {
   "cell_type": "markdown",
   "metadata": {},
   "source": [
    "4\\. Counting letters\n",
    "\n",
    "Write a program to calculate the number of times each character occurs in a given string *s*. Ignore differneces in capitalization"
   ]
  },
  {
   "cell_type": "code",
   "execution_count": 37,
   "metadata": {},
   "outputs": [
    {
     "name": "stdout",
     "output_type": "stream",
     "text": [
      "Numero di a : 7\n",
      "Numero di b : 4\n",
      "Numero di c : 3\n",
      "Numero di d : 3\n",
      "Numero di e : 22\n",
      "Numero di f : 9\n",
      "Numero di g : 1\n",
      "Numero di h : 9\n",
      "Numero di i : 14\n",
      "Numero di l : 6\n",
      "Numero di m : 8\n",
      "Numero di n : 10\n",
      "Numero di k : 2\n",
      "Numero di j : 0\n",
      "Numero di o : 13\n",
      "Numero di p : 8\n",
      "Numero di q : 0\n",
      "Numero di r : 17\n",
      "Numero di s : 9\n",
      "Numero di t : 19\n",
      "Numero di u : 9\n",
      "Numero di v : 2\n",
      "Numero di w : 1\n",
      "Numero di x : 0\n",
      "Numero di y : 2\n",
      "Numero di z : 0\n",
      "Numero di . : 2\n",
      "Numero di , : 0\n",
      "Numero di   : 41\n"
     ]
    }
   ],
   "source": [
    "s=\"Write a program that prints the numbers from 1 to 100. \\\n",
    "But for multiples of three print Mickey instead of the number and for the multiples of five print Mouse. \\\n",
    "For numbers which are multiples of both three and five print MickeyMouse\"\n",
    "alfabeto=('abcdefghilmnkjopqrstuvwxyz., ')\n",
    "for i in range(0, len(alfabeto)):\n",
    "    print('Numero di', alfabeto[i], ':', s.count(alfabeto[i]))\n"
   ]
  },
  {
   "cell_type": "markdown",
   "metadata": {},
   "source": [
    "5\\. Isolating the unique\n",
    "\n",
    "Write a function that determines and count the unique numbers in the list *l*"
   ]
  },
  {
   "cell_type": "code",
   "execution_count": 61,
   "metadata": {},
   "outputs": [
    {
     "name": "stdout",
     "output_type": "stream",
     "text": [
      "58\n",
      "74\n",
      "96\n",
      "64\n",
      "10\n",
      "24\n",
      "19\n",
      "33\n",
      "86\n",
      "99\n",
      "18\n",
      "47\n",
      "88\n",
      "55\n",
      "54\n",
      "8\n",
      "79\n",
      "81\n",
      "57\n",
      "37\n",
      "1\n",
      "9\n",
      "95\n",
      "90\n",
      "98\n",
      "39\n",
      "16\n",
      "82\n",
      "92\n",
      "41\n",
      "30\n",
      "94\n",
      "5\n",
      "72\n",
      "87\n",
      "75\n",
      "53\n",
      "Numbers of unique numbers: 77\n"
     ]
    }
   ],
   "source": [
    "l = [36, 45, 58, 3, 74, 96, 64, 45, 31, 10, 24, 19, 33, 86, 99, 18, 63, 70, 85,\n",
    " 85, 63, 47, 56, 42, 70, 84, 88, 55, 20, 54, 8, 56, 51, 79, 81, 57, 37, 91,\n",
    " 1, 84, 84, 36, 66, 9, 89, 50, 42, 91, 50, 95, 90, 98, 39, 16, 82, 31, 92, 41,\n",
    " 45, 30, 66, 70, 34, 85, 94, 5, 3, 36, 72, 91, 84, 34, 87, 75, 53, 51, 20, 89, 51, 20]\n",
    "\n",
    "for k in range(0, len(l)):\n",
    "    unique=1\n",
    "    number=0\n",
    "    for j in range(0, k):\n",
    "        if(l[j]==l[k]):\n",
    "            unique=0\n",
    "        else: number+=1\n",
    "    for j in range(k+1, len(l)):\n",
    "        if(l[j]==l[k]):\n",
    "            unique=0\n",
    "        else: number+=1\n",
    "    if(unique==1):\n",
    "        print(l[k])\n",
    "print('Numbers of unique numbers:', number)"
   ]
  },
  {
   "cell_type": "markdown",
   "metadata": {},
   "source": [
    "6\\. Combination of functions\n",
    "\n",
    "Write two functions - one that returns the square of a number, and one that returns the cube. Now write a third function that returns the number raised to the 6th power using the two previous functions."
   ]
  },
  {
   "cell_type": "code",
   "execution_count": 55,
   "metadata": {},
   "outputs": [
    {
     "name": "stdout",
     "output_type": "stream",
     "text": [
      "Insert the number:2\n",
      "2.0 4.0 8.0 64.0\n"
     ]
    }
   ],
   "source": [
    "x=float(input('Insert the number:'))\n",
    "\n",
    "def square(x):\n",
    "    return x*x\n",
    "\n",
    "def cube(x):\n",
    "    return x*x*x\n",
    "\n",
    "def power6(x):\n",
    "    return cube(square(x))\n",
    "\n",
    "print(x, square(x), cube(x), power6(x))\n"
   ]
  },
  {
   "cell_type": "markdown",
   "metadata": {},
   "source": [
    "7\\. Cubes\n",
    "\n",
    "Create a list of the cubes of x for x in *[0, 10]* using:\n",
    "\n",
    "a) a for loop\n",
    "\n",
    "b) a list comprehension"
   ]
  },
  {
   "cell_type": "code",
   "execution_count": 67,
   "metadata": {},
   "outputs": [
    {
     "name": "stdout",
     "output_type": "stream",
     "text": [
      "0\n",
      "1\n",
      "27\n",
      "64\n",
      "125\n",
      "216\n",
      "343\n",
      "512\n",
      "729\n",
      "1000\n",
      "[0, 1, 27, 64, 125, 216, 343, 512, 729, 1000]\n"
     ]
    }
   ],
   "source": [
    "lista=[0,1,3,4,5,6,7,8,9,10]\n",
    "cube_list=[]\n",
    "cube_list_C=[]\n",
    "\n",
    "def cube(x):\n",
    "    return x*x*x\n",
    "\n",
    "for i in range(0,len(lista)):\n",
    "    cube_list.append(cube(lista[i]))\n",
    "    print(cube_list[i])\n",
    "\n",
    "cube_list_C=[cube(x) for x in lista]\n",
    "print(cube_list_C)\n"
   ]
  },
  {
   "cell_type": "markdown",
   "metadata": {},
   "source": [
    "8\\. Nested list comprehension\n",
    "\n",
    "A Pythagorean triple is an integer solution to the Pythagorean theorem $a^2+b^2=c^2$. The first Pythagorean triple is (3,4,5). Find and put in a tuple all unique Pythagorean triples for the positive integers a, b and c less than 100."
   ]
  },
  {
   "cell_type": "code",
   "execution_count": 80,
   "metadata": {},
   "outputs": [
    {
     "name": "stdout",
     "output_type": "stream",
     "text": [
      "[(3, 4, 5), (5, 12, 13), (6, 8, 10), (7, 24, 25), (8, 15, 17), (9, 12, 15), (9, 40, 41), (10, 24, 26), (11, 60, 61), (12, 16, 20), (12, 35, 37), (13, 84, 85), (14, 48, 50), (15, 20, 25), (15, 36, 39), (16, 30, 34), (16, 63, 65), (18, 24, 30), (18, 80, 82), (20, 21, 29), (20, 48, 52), (21, 28, 35), (21, 72, 75), (24, 32, 40), (24, 45, 51), (24, 70, 74), (25, 60, 65), (27, 36, 45), (28, 45, 53), (28, 96, 100), (30, 40, 50), (30, 72, 78), (32, 60, 68), (33, 44, 55), (33, 56, 65), (35, 84, 91), (36, 48, 60), (36, 77, 85), (39, 52, 65), (39, 80, 89), (40, 42, 58), (40, 75, 85), (42, 56, 70), (45, 60, 75), (48, 55, 73), (48, 64, 80), (51, 68, 85), (54, 72, 90), (57, 76, 95), (60, 63, 87), (60, 80, 100), (65, 72, 97)]\n"
     ]
    }
   ],
   "source": [
    "lista=[]\n",
    "for i in range (1,101):\n",
    "    for j in range(i+1, 101):\n",
    "        if(((i*i+j*j)**(1/2))%1==0) and (((i*i+j*j)**(1/2))<=100):\n",
    "           lista.append((i, j, int((i*i+j*j)**(1/2))))\n",
    "print(lista)        "
   ]
  },
  {
   "cell_type": "markdown",
   "metadata": {},
   "source": [
    "9\\. Normalization\n",
    "\n",
    "Write a function that takes a tuple of numbers and returns it with the entries normalized to one"
   ]
  },
  {
   "cell_type": "code",
   "execution_count": null,
   "metadata": {},
   "outputs": [],
   "source": [
    "\n",
    "\n",
    "def  normalizer(u):\n",
    "    lista \n",
    "    "
   ]
  }
 ],
 "metadata": {
  "kernelspec": {
   "display_name": "Python 3 (ipykernel)",
   "language": "python",
   "name": "python3"
  },
  "language_info": {
   "codemirror_mode": {
    "name": "ipython",
    "version": 3
   },
   "file_extension": ".py",
   "mimetype": "text/x-python",
   "name": "python",
   "nbconvert_exporter": "python",
   "pygments_lexer": "ipython3",
   "version": "3.10.6"
  }
 },
 "nbformat": 4,
 "nbformat_minor": 2
}
